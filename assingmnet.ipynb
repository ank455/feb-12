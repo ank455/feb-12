{
 "cells": [
  {
   "cell_type": "code",
   "execution_count": null,
   "id": "78eb23a5-2553-4998-86a5-1d4b736ddb14",
   "metadata": {},
   "outputs": [],
   "source": [
    "# Ans 1\n",
    "\n",
    "An exception is an event, which occurs during the execution of a program that disrupts the normal flow of the program's instructions\n",
    "\n",
    "Difference between exception and syntax error\n",
    "\n",
    "An exception is a condition that interrupts the normal flow of the program.\n",
    "\n",
    "An error is an issue in a program that prevents the program from completing its task."
   ]
  },
  {
   "cell_type": "code",
   "execution_count": null,
   "id": "dba4dd0c-904d-48c3-9d8a-8cc6fe9fb75d",
   "metadata": {},
   "outputs": [],
   "source": [
    "# Ans 2\n",
    "\n",
    "The runtime system will abort the program and an exception message will print to the console."
   ]
  },
  {
   "cell_type": "code",
   "execution_count": 3,
   "id": "06c3bc81-890f-4b89-8465-696a6edf85f7",
   "metadata": {},
   "outputs": [
    {
     "name": "stdout",
     "output_type": "stream",
     "text": [
      "This is my program [Errno 2] No such file or directory: 'tst5.txt'\n"
     ]
    }
   ],
   "source": [
    "# Example \n",
    "\n",
    "try :\n",
    "    \n",
    "    a = open(\"tst5.txt\" , \"r\")\n",
    "\n",
    "except Exception as f :\n",
    "    print(\"This is my program\" , f)"
   ]
  },
  {
   "cell_type": "code",
   "execution_count": null,
   "id": "b7088359-4056-44f3-b925-10c3d1cadf6b",
   "metadata": {},
   "outputs": [],
   "source": [
    "# Ans 3\n",
    "\n",
    "The try and except block in python to catch and handle the exception."
   ]
  },
  {
   "cell_type": "code",
   "execution_count": 9,
   "id": "e1ec721e-f0d6-4ac5-a7cc-ba16581a05b0",
   "metadata": {},
   "outputs": [
    {
     "name": "stdout",
     "output_type": "stream",
     "text": [
      "This file belongs to ankit kumar\n"
     ]
    }
   ],
   "source": [
    "try :\n",
    "    \n",
    "    f = open(\"xyz.txt\" , \"w\")\n",
    "    f.write(\"This is my file\")\n",
    "finally:\n",
    "    print(\"This file belongs to ankit kumar\")"
   ]
  },
  {
   "cell_type": "code",
   "execution_count": null,
   "id": "959c3ef7-4df1-45e4-a468-ad82a98490cb",
   "metadata": {},
   "outputs": [],
   "source": [
    "# Ans4 (a)\n",
    "Try block = The try block lets you test a block of code for errors.\n",
    "Else = The else block lets you execute code when there is no error. \n"
   ]
  },
  {
   "cell_type": "code",
   "execution_count": 7,
   "id": "714d1b53-c913-48f6-9cbb-b0283f62f46a",
   "metadata": {},
   "outputs": [
    {
     "name": "stdout",
     "output_type": "stream",
     "text": [
      "your result is  5\n",
      "your result is  3\n"
     ]
    }
   ],
   "source": [
    "# example of try and else\n",
    "\n",
    "def add(m , n):\n",
    "    \n",
    "    try:\n",
    "        result = m + n\n",
    "        \n",
    "    except :\n",
    "        print(\" your result is \")\n",
    "    else :\n",
    "        print(\"your result is \" ,result)\n",
    "        \n",
    "add(3 , 2)\n",
    "add(3 , 0)\n",
    "\n",
    "    "
   ]
  },
  {
   "cell_type": "code",
   "execution_count": null,
   "id": "12cb2eca-75d7-49c5-9696-a2e0f780f90b",
   "metadata": {},
   "outputs": [],
   "source": [
    "# Ans 4 (b)\n",
    "\n",
    "finally block = it defines a block of code to run when try , except , else block is final"
   ]
  },
  {
   "cell_type": "code",
   "execution_count": 8,
   "id": "9716019f-c245-4861-8e44-d9e82466efd9",
   "metadata": {},
   "outputs": [
    {
     "name": "stdout",
     "output_type": "stream",
     "text": [
      "this is my result\n"
     ]
    }
   ],
   "source": [
    "# example of finally\n",
    "\n",
    "try : \n",
    "    f = open(\"ank.txt\" , \"w\")\n",
    "    f.write(\"ankit kumar\")\n",
    "    \n",
    "finally :\n",
    "    print(\"this is my result\")"
   ]
  },
  {
   "cell_type": "code",
   "execution_count": null,
   "id": "ee42bf86-77fb-46b7-8c09-0de5e5f00289",
   "metadata": {},
   "outputs": [],
   "source": [
    "# Ans 4(c)\n",
    "raise block = it is used to raise an exception. "
   ]
  },
  {
   "cell_type": "code",
   "execution_count": 12,
   "id": "68e5d1b4-762f-45b2-9971-991d95c8ddde",
   "metadata": {},
   "outputs": [
    {
     "ename": "Exception",
     "evalue": "The number shouldn't be an odd integer",
     "output_type": "error",
     "traceback": [
      "\u001b[0;31m---------------------------------------------------------------------------\u001b[0m",
      "\u001b[0;31mException\u001b[0m                                 Traceback (most recent call last)",
      "Cell \u001b[0;32mIn[12], line 5\u001b[0m\n\u001b[1;32m      2\u001b[0m a \u001b[38;5;241m=\u001b[39m \u001b[38;5;241m5\u001b[39m\n\u001b[1;32m      4\u001b[0m \u001b[38;5;28;01mif\u001b[39;00m a \u001b[38;5;241m%\u001b[39m \u001b[38;5;241m2\u001b[39m \u001b[38;5;241m!=\u001b[39m \u001b[38;5;241m0\u001b[39m:\n\u001b[0;32m----> 5\u001b[0m \t\u001b[38;5;28;01mraise\u001b[39;00m \u001b[38;5;167;01mException\u001b[39;00m(\u001b[38;5;124m\"\u001b[39m\u001b[38;5;124mThe number shouldn\u001b[39m\u001b[38;5;124m'\u001b[39m\u001b[38;5;124mt be an odd integer\u001b[39m\u001b[38;5;124m\"\u001b[39m)\n",
      "\u001b[0;31mException\u001b[0m: The number shouldn't be an odd integer"
     ]
    }
   ],
   "source": [
    "# Example of raise\n",
    "a = 5\n",
    "\n",
    "if a % 2 != 0:\n",
    "\traise Exception(\"The number shouldn't be an odd integer\")\n"
   ]
  },
  {
   "cell_type": "code",
   "execution_count": null,
   "id": "b4e40a1c-3e3f-46f9-86ee-898c9f052e33",
   "metadata": {},
   "outputs": [],
   "source": [
    "# Ans 5\n",
    "Custom exception - Built-in exceptions offer information about Python-related problems, and custom exceptions will add information about project-related problems.\n",
    "\n",
    "we need custom exception to catch and provide specific treatment to a subset of existing java exception"
   ]
  },
  {
   "cell_type": "code",
   "execution_count": 23,
   "id": "2c47168c-5edf-4889-9893-852035386453",
   "metadata": {},
   "outputs": [
    {
     "name": "stdin",
     "output_type": "stream",
     "text": [
      "Enter your number : 35\n"
     ]
    },
    {
     "name": "stdout",
     "output_type": "stream",
     "text": [
      "Eligible to vote\n"
     ]
    }
   ],
   "source": [
    "# example \n",
    "\n",
    "class InvalidAgeException(Exception):\n",
    "    \"Raised when input value is less than 18\"\n",
    "    pass\n",
    "\n",
    "number = 18\n",
    "\n",
    "try :\n",
    "    input_num = int(input(\"Enter your number :\"))\n",
    "    if input_num < number:\n",
    "        raise InvalidAgeException\n",
    "    else :\n",
    "        print(\"Eligible to vote\")\n",
    "except InvalidAgeException:\n",
    "        print(\"Invalid Age\")\n",
    "        "
   ]
  },
  {
   "cell_type": "code",
   "execution_count": null,
   "id": "4517c054-bb10-42bd-8690-1d3a294d631d",
   "metadata": {},
   "outputs": [],
   "source": [
    "# Ans 6\n",
    "class"
   ]
  }
 ],
 "metadata": {
  "kernelspec": {
   "display_name": "Python 3 (ipykernel)",
   "language": "python",
   "name": "python3"
  },
  "language_info": {
   "codemirror_mode": {
    "name": "ipython",
    "version": 3
   },
   "file_extension": ".py",
   "mimetype": "text/x-python",
   "name": "python",
   "nbconvert_exporter": "python",
   "pygments_lexer": "ipython3",
   "version": "3.10.8"
  }
 },
 "nbformat": 4,
 "nbformat_minor": 5
}
